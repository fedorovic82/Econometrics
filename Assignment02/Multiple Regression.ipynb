{
 "cells": [
  {
   "cell_type": "markdown",
   "metadata": {},
   "source": [
    "# Table of Contents"
   ]
  },
  {
   "cell_type": "markdown",
   "metadata": {},
   "source": [
    "1  Notes\n",
    "2  Week 2: Multiple Regression Graded Assignment\n",
    "2.1  Questions:\n",
    "2.1.1  Solution:\n",
    "2.1.1.1  Get Data\n",
    "2.1.1.2  Part A Solution\n",
    "2.1.1.2.1  Part A Code\n",
    "2.1.1.2.2  Summary Part A\n",
    "2.1.1.3  Part B Solution\n",
    "2.1.1.3.1  Part B Code\n",
    "2.1.1.3.2  Summary Part B\n",
    "2.1.1.4  Part C Solution\n",
    "2.1.1.4.1  Part C Code\n",
    "2.1.1.4.2  Summary Part C\n",
    "2.1.1.5  Part D Solution\n",
    "2.1.1.5.1  Part D Code\n",
    "2.1.1.5.2  Summary Part D"
   ]
  },
  {
   "cell_type": "markdown",
   "metadata": {},
   "source": [
    "# Assignment Multiple regression"
   ]
  },
  {
   "cell_type": "markdown",
   "metadata": {},
   "source": [
    "This assignment is of an applied nature and uses data that are available in the data file TestExer2-GPA-round2. The question of interest is whether the study results of students in Economics can be predicted from the scores on entrance tests taken before they start their studies. More precisely, you are asked to investigate whether verbal and mathematical entrance tests predict freshman grades of students in Economics.\n",
    "\n",
    "### A\n",
    "1. Regress FGPA on a constant and SATV. Report the coefficient of SATV and its standard error and p-value (give your answers with 3 decimals).\n",
    "2. Determine a 95% confidence interval (with 3 decimals) for the effect on FGPA of an increase by 1 point in SATV.\n",
    "\n",
    "### B\n",
    "Answer questions $a_i$ and $a_2$ also for the regression of FGPA on a constant, SATV, SATM, and FEM.\n",
    "\n",
    "### C\n",
    "Determine the (4 × 4) correlation matrix of FGPA, SATV, SATM, and FEM. Use these correlations to explain the differences between the outcomes in parts (A) and (B).\n",
    "\n",
    "### D\n",
    "1. Perform an F-test on the significance (at the 5% level) of the effect of SATV on FGPA, based on the regression in part (b) and another regression. Note: Use the F-test in terms of SSR or $R^2$ and use 6 decimals in your computations. The relevant critical value is 3.9.\n",
    "2. Check numerically that $F = t^2$.\n",
    "\n",
    "### TestExer2-GPA Data\n",
    "\n",
    "* Data on student learning of 609 students \n",
    "* FGPA: Freshman grade point average (scale 0-4)\n",
    "* SATV: Score on SAT Verbal test (scale 0-10)\n",
    "* SATM: Score on SAT Mathematics test (scale 0-10)\n",
    "* FEM: Gender dummy (1 for females, 0 for males)"
   ]
  },
  {
   "cell_type": "markdown",
   "metadata": {},
   "source": [
    "# Solution "
   ]
  },
  {
   "cell_type": "code",
   "execution_count": 9,
   "metadata": {},
   "outputs": [],
   "source": [
    "import numpy as np\n",
    "import pandas as pd\n",
    "\n",
    "from sklearn.metrics import r2_score\n",
    "from sklearn.linear_model import LinearRegression\n",
    "from sklearn.feature_selection import f_regression as fp"
   ]
  },
  {
   "cell_type": "code",
   "execution_count": 15,
   "metadata": {},
   "outputs": [
    {
     "data": {
      "text/html": [
       "<div>\n",
       "<style scoped>\n",
       "    .dataframe tbody tr th:only-of-type {\n",
       "        vertical-align: middle;\n",
       "    }\n",
       "\n",
       "    .dataframe tbody tr th {\n",
       "        vertical-align: top;\n",
       "    }\n",
       "\n",
       "    .dataframe thead th {\n",
       "        text-align: right;\n",
       "    }\n",
       "</style>\n",
       "<table border=\"1\" class=\"dataframe\">\n",
       "  <thead>\n",
       "    <tr style=\"text-align: right;\">\n",
       "      <th></th>\n",
       "      <th>Observation</th>\n",
       "      <th>FGPA</th>\n",
       "      <th>SATM</th>\n",
       "      <th>SATV</th>\n",
       "      <th>FEM</th>\n",
       "    </tr>\n",
       "  </thead>\n",
       "  <tbody>\n",
       "    <tr>\n",
       "      <th>0</th>\n",
       "      <td>1</td>\n",
       "      <td>2.52</td>\n",
       "      <td>4.0</td>\n",
       "      <td>4.0</td>\n",
       "      <td>1</td>\n",
       "    </tr>\n",
       "    <tr>\n",
       "      <th>1</th>\n",
       "      <td>2</td>\n",
       "      <td>2.33</td>\n",
       "      <td>4.9</td>\n",
       "      <td>3.1</td>\n",
       "      <td>0</td>\n",
       "    </tr>\n",
       "    <tr>\n",
       "      <th>2</th>\n",
       "      <td>3</td>\n",
       "      <td>3.00</td>\n",
       "      <td>4.4</td>\n",
       "      <td>4.0</td>\n",
       "      <td>1</td>\n",
       "    </tr>\n",
       "    <tr>\n",
       "      <th>3</th>\n",
       "      <td>4</td>\n",
       "      <td>2.11</td>\n",
       "      <td>4.9</td>\n",
       "      <td>3.9</td>\n",
       "      <td>0</td>\n",
       "    </tr>\n",
       "    <tr>\n",
       "      <th>4</th>\n",
       "      <td>5</td>\n",
       "      <td>2.15</td>\n",
       "      <td>4.3</td>\n",
       "      <td>4.7</td>\n",
       "      <td>0</td>\n",
       "    </tr>\n",
       "  </tbody>\n",
       "</table>\n",
       "</div>"
      ],
      "text/plain": [
       "   Observation  FGPA  SATM  SATV  FEM\n",
       "0            1  2.52   4.0   4.0    1\n",
       "1            2  2.33   4.9   3.1    0\n",
       "2            3  3.00   4.4   4.0    1\n",
       "3            4  2.11   4.9   3.9    0\n",
       "4            5  2.15   4.3   4.7    0"
      ]
     },
     "execution_count": 15,
     "metadata": {},
     "output_type": "execute_result"
    }
   ],
   "source": [
    "TestExer = pd.read_csv('/users/fedorslegtenhorst/downloads/TestExer2-GPA-round2.csv', sep = ',')\n",
    "TestExer.head()"
   ]
  },
  {
   "cell_type": "markdown",
   "metadata": {},
   "source": [
    "### Part A code"
   ]
  },
  {
   "cell_type": "code",
   "execution_count": 16,
   "metadata": {},
   "outputs": [],
   "source": [
    "SATV = TestExer.SATV.values.reshape(-1,1) # independent variable\n",
    "FGPA = TestExer.FGPA # dependent variable"
   ]
  },
  {
   "cell_type": "code",
   "execution_count": 17,
   "metadata": {},
   "outputs": [
    {
     "name": "stdout",
     "output_type": "stream",
     "text": [
      "The coefficient rounded to 3 decimals is:  0.063\n",
      "The intercept rounded to 3 decimals is:  2.443\n"
     ]
    }
   ],
   "source": [
    "model_a = LinearRegression()\n",
    "model_a.fit(X=SATV, y=FGPA)\n",
    "print(\"The coefficient rounded to 3 decimals is: \", round(model_a.coef_[0], 3))\n",
    "print(\"The intercept rounded to 3 decimals is: \", round(model_a.intercept_, 3))"
   ]
  },
  {
   "cell_type": "code",
   "execution_count": 18,
   "metadata": {},
   "outputs": [
    {
     "name": "stdout",
     "output_type": "stream",
     "text": [
      "The P-Value rounded to 3 decimals is:  0.023\n"
     ]
    }
   ],
   "source": [
    "F_test, P_value = fp(SATV, FGPA)\n",
    "print(\"The P-Value rounded to 3 decimals is: \", round(P_value[0], 3))"
   ]
  },
  {
   "cell_type": "code",
   "execution_count": 19,
   "metadata": {},
   "outputs": [],
   "source": [
    "FGPA_pred = model_a.predict(SATV)\n",
    "SSE_a = ((FGPA - FGPA_pred)**2).sum() # sum of squared error\n",
    "s_a = np.sqrt((SSE_a)/(len(FGPA)-2)) # standard error for part a\n",
    "s_b_sq = s_a**2 / ((SATV - SATV.mean())**2).sum() # std. error sq of slope\n",
    "s_b = np.sqrt(s_b_sq)"
   ]
  },
  {
   "cell_type": "code",
   "execution_count": 20,
   "metadata": {},
   "outputs": [],
   "source": [
    "lower_limit = (model_a.coef_ - 1.96*s_b)\n",
    "upper_limit = model_a.coef_ + 1.96*s_b\n",
    "conf_interval = [lower_limit[0], upper_limit[0]]"
   ]
  },
  {
   "cell_type": "markdown",
   "metadata": {},
   "source": [
    "### Summary Part A"
   ]
  },
  {
   "cell_type": "code",
   "execution_count": 21,
   "metadata": {},
   "outputs": [
    {
     "name": "stdout",
     "output_type": "stream",
     "text": [
      "The coefficient rounded to 3 decimals is:  0.063\n",
      "The Standard error of Slope rounded to 3 decimals is:  0.028\n",
      "The P-Value rounded to 3 decimals is:  0.023\n",
      "\n",
      "\n",
      "The 95% confidence interval for effect on FGPA with an increase by 1 point is: \n",
      " [0.008732742834394507, 0.11720204595554712]\n"
     ]
    }
   ],
   "source": [
    "# Part a - 1: coefficient of SATV and its standard error and p-value\n",
    "print(\"The coefficient rounded to 3 decimals is: \", round(model_a.coef_[0], 3))\n",
    "print(\"The Standard error of Slope rounded to 3 decimals is: \", round(s_b, 3))\n",
    "print(\"The P-Value rounded to 3 decimals is: \", round(P_value[0], 3))\n",
    "\n",
    "# Part a - 2: 95% confidence interval (with 3 decimals)\n",
    "print(\"\\n\")\n",
    "print(\"The 95% confidence interval for effect on FGPA with an increase by 1 point is: \\n\", conf_interval)"
   ]
  },
  {
   "cell_type": "markdown",
   "metadata": {},
   "source": [
    "### Part B code"
   ]
  },
  {
   "cell_type": "code",
   "execution_count": 22,
   "metadata": {},
   "outputs": [],
   "source": [
    "X = TestExer[[\"SATV\", \"SATM\", \"FEM\"]] # independent variable\n",
    "y = TestExer.FGPA # dependent variable"
   ]
  },
  {
   "cell_type": "code",
   "execution_count": 23,
   "metadata": {},
   "outputs": [
    {
     "data": {
      "text/plain": [
       "array([0.014, 0.173, 0.2  ])"
      ]
     },
     "execution_count": 23,
     "metadata": {},
     "output_type": "execute_result"
    }
   ],
   "source": [
    "model_b = LinearRegression()\n",
    "model_b.fit(X, y)\n",
    "np.around(model_b.coef_, 3)"
   ]
  },
  {
   "cell_type": "code",
   "execution_count": 24,
   "metadata": {},
   "outputs": [
    {
     "data": {
      "text/plain": [
       "0.026609143982420952"
      ]
     },
     "execution_count": 24,
     "metadata": {},
     "output_type": "execute_result"
    }
   ],
   "source": [
    "y_pred = model_b.predict(X)\n",
    "SSE_a2 = ((y - y_pred)**2).sum() # sum of squared error\n",
    "s_a2 = np.sqrt((SSE_a2)/(len(X)-2)) # standard error\n",
    "s_b2_sq = s_a2**2 / ((TestExer.SATV - TestExer.SATV.mean())**2).sum() # SSE SATV\n",
    "s_b2 = np.sqrt(s_b2_sq)\n",
    "s_b2"
   ]
  },
  {
   "cell_type": "code",
   "execution_count": 25,
   "metadata": {},
   "outputs": [
    {
     "data": {
      "text/plain": [
       "[-0.038207815448865784, 0.06610002896222435]"
      ]
     },
     "execution_count": 25,
     "metadata": {},
     "output_type": "execute_result"
    }
   ],
   "source": [
    "lower_limit = (model_b.coef_[0] - 1.96*s_b2)\n",
    "upper_limit = model_b.coef_[0] + 1.96*s_b2\n",
    "conf_interval = [lower_limit, upper_limit]\n",
    "conf_interval"
   ]
  },
  {
   "cell_type": "markdown",
   "metadata": {},
   "source": [
    "### Summary Part B"
   ]
  },
  {
   "cell_type": "code",
   "execution_count": 26,
   "metadata": {},
   "outputs": [
    {
     "name": "stdout",
     "output_type": "stream",
     "text": [
      "The coefficient rounded to 3 decimals is:  0.014\n",
      "The Standard error of Slope rounded to 3 decimals is:  0.027\n",
      "\n",
      "\n",
      "The 95% confidence interval for effect on FGPA with an increase by 1 point is: \n",
      " [-0.038207815448865784, 0.06610002896222435]\n"
     ]
    }
   ],
   "source": [
    "# Part a - 1: coefficient of SATV and its standard error\n",
    "print(\"The coefficient rounded to 3 decimals is: \", round(model_b.coef_[0], 3))\n",
    "print(\"The Standard error of Slope rounded to 3 decimals is: \", round(s_b2, 3))\n",
    "\n",
    "# Part a - 2: 95% confidence interval (with 3 decimals)\n",
    "print(\"\\n\")\n",
    "print(\"The 95% confidence interval for effect on FGPA with an increase by 1 point is: \\n\", conf_interval)"
   ]
  },
  {
   "cell_type": "markdown",
   "metadata": {},
   "source": [
    "### Part C Code"
   ]
  },
  {
   "cell_type": "code",
   "execution_count": 27,
   "metadata": {},
   "outputs": [
    {
     "data": {
      "text/html": [
       "<div>\n",
       "<style scoped>\n",
       "    .dataframe tbody tr th:only-of-type {\n",
       "        vertical-align: middle;\n",
       "    }\n",
       "\n",
       "    .dataframe tbody tr th {\n",
       "        vertical-align: top;\n",
       "    }\n",
       "\n",
       "    .dataframe thead th {\n",
       "        text-align: right;\n",
       "    }\n",
       "</style>\n",
       "<table border=\"1\" class=\"dataframe\">\n",
       "  <thead>\n",
       "    <tr style=\"text-align: right;\">\n",
       "      <th></th>\n",
       "      <th>FGPA</th>\n",
       "      <th>SATV</th>\n",
       "      <th>SATM</th>\n",
       "      <th>FEM</th>\n",
       "    </tr>\n",
       "  </thead>\n",
       "  <tbody>\n",
       "    <tr>\n",
       "      <th>FGPA</th>\n",
       "      <td>1.000000</td>\n",
       "      <td>0.091972</td>\n",
       "      <td>0.195378</td>\n",
       "      <td>0.176428</td>\n",
       "    </tr>\n",
       "    <tr>\n",
       "      <th>SATV</th>\n",
       "      <td>0.091972</td>\n",
       "      <td>1.000000</td>\n",
       "      <td>0.287801</td>\n",
       "      <td>0.033577</td>\n",
       "    </tr>\n",
       "    <tr>\n",
       "      <th>SATM</th>\n",
       "      <td>0.195378</td>\n",
       "      <td>0.287801</td>\n",
       "      <td>1.000000</td>\n",
       "      <td>-0.162680</td>\n",
       "    </tr>\n",
       "    <tr>\n",
       "      <th>FEM</th>\n",
       "      <td>0.176428</td>\n",
       "      <td>0.033577</td>\n",
       "      <td>-0.162680</td>\n",
       "      <td>1.000000</td>\n",
       "    </tr>\n",
       "  </tbody>\n",
       "</table>\n",
       "</div>"
      ],
      "text/plain": [
       "          FGPA      SATV      SATM       FEM\n",
       "FGPA  1.000000  0.091972  0.195378  0.176428\n",
       "SATV  0.091972  1.000000  0.287801  0.033577\n",
       "SATM  0.195378  0.287801  1.000000 -0.162680\n",
       "FEM   0.176428  0.033577 -0.162680  1.000000"
      ]
     },
     "execution_count": 27,
     "metadata": {},
     "output_type": "execute_result"
    }
   ],
   "source": [
    "subset_df = TestExer[[\"FGPA\", \"SATV\", \"SATM\", \"FEM\"]]\n",
    "subset_df.corr()"
   ]
  },
  {
   "cell_type": "markdown",
   "metadata": {},
   "source": [
    "### Summary Part C\n",
    "\n",
    "In general, SATV has significant impact on FGPA when it was the only feature. However, since SATM and SATV are the correlated, the total significance comes from SATM influence. When there was a partial dependence (Case B), we saw that SATV does not have a significant impact.\n",
    "Now FEM and SATV do not have a significant correlation so it mut be maintained in the model. The effect of SATM can be absorbed by SATV."
   ]
  },
  {
   "cell_type": "markdown",
   "metadata": {},
   "source": [
    "### Part D Code\n",
    "\n",
    "Suing the results of Part B and inferences of Part C, we can create a new model which looks at only SATM and FEM. We can use that to determine SSR which is defined as the sum of the squared differences between the prediction for each observation and the population. We cab then use the results fo this model to compare against the model_b."
   ]
  },
  {
   "cell_type": "code",
   "execution_count": 28,
   "metadata": {},
   "outputs": [],
   "source": [
    "model_h0 = LinearRegression()\n",
    "X_h0 = TestExer[[\"SATM\", \"FEM\"]]\n",
    "y_h0 = TestExer.FGPA"
   ]
  },
  {
   "cell_type": "code",
   "execution_count": 29,
   "metadata": {},
   "outputs": [],
   "source": [
    "model_h0.fit(X_h0, y_h0)\n",
    "y_pred_h0 = model_h0.predict(X_h0)\n",
    "\n",
    "SSR_h0_sq = (y_h0 - y_pred_h0)**2\n",
    "SSR_h0 = SSR_h0_sq.sum()\n",
    "r_sq_h0 = r2_score(y_h0, y_pred_h0)"
   ]
  },
  {
   "cell_type": "code",
   "execution_count": 30,
   "metadata": {},
   "outputs": [],
   "source": [
    "SSR_b_sq = (y - y_pred)**2\n",
    "SSR_b = SSR_b_sq.sum()\n",
    "r_sq_b = r2_score(y, y_pred)"
   ]
  },
  {
   "cell_type": "code",
   "execution_count": 31,
   "metadata": {},
   "outputs": [],
   "source": [
    "F = (SSR_h0 - SSR_b) / (SSR_b / 605)"
   ]
  },
  {
   "cell_type": "markdown",
   "metadata": {},
   "source": [
    "### Part D Summary"
   ]
  },
  {
   "cell_type": "code",
   "execution_count": 32,
   "metadata": {},
   "outputs": [
    {
     "name": "stdout",
     "output_type": "stream",
     "text": [
      "The Modified Model SSR rounded to 6 decimals is:  118.191220\n",
      "The Modified Model R^2 rounded to 6 decimals is:  0.082703\n",
      "\n",
      "\n",
      "The Part-B Model SSR rounded to 6 decimals is:  118.142539\n",
      "The Part-B Model R^2 rounded to 6 decimals is:  0.083081\n",
      "\n",
      "\n",
      "The F statistic rounded to 3 decimals is:  0.249\n"
     ]
    }
   ],
   "source": [
    "# Modified Model - SSR and R-squared\n",
    "print(\"The Modified Model SSR rounded to 6 decimals is: \", format(SSR_h0, '.6f'))\n",
    "print(\"The Modified Model R^2 rounded to 6 decimals is: \", format(r_sq_h0, '.6f'))\n",
    "\n",
    "# Part B Model - SSR and R-squared\n",
    "print(\"\\n\")\n",
    "print(\"The Part-B Model SSR rounded to 6 decimals is: \", format(SSR_b, '.6f'))\n",
    "print(\"The Part-B Model R^2 rounded to 6 decimals is: \", format(r_sq_b, '.6f'))\n",
    "\n",
    "# F Statistic\n",
    "print(\"\\n\")\n",
    "print(\"The F statistic rounded to 3 decimals is: \", format(F, '.3f'))"
   ]
  },
  {
   "cell_type": "markdown",
   "metadata": {},
   "source": [
    "Since the value of the F-statistic is less than the provided critical value, we can safely conclude that the Null hypothesis $H_0$ is not rejected."
   ]
  },
  {
   "cell_type": "code",
   "execution_count": null,
   "metadata": {},
   "outputs": [],
   "source": []
  }
 ],
 "metadata": {
  "kernelspec": {
   "display_name": "Python 3",
   "language": "python",
   "name": "python3"
  },
  "language_info": {
   "codemirror_mode": {
    "name": "ipython",
    "version": 3
   },
   "file_extension": ".py",
   "mimetype": "text/x-python",
   "name": "python",
   "nbconvert_exporter": "python",
   "pygments_lexer": "ipython3",
   "version": "3.7.3"
  }
 },
 "nbformat": 4,
 "nbformat_minor": 2
}
